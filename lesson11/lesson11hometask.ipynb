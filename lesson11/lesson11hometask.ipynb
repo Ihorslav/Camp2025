{
 "cells": [
  {
   "cell_type": "code",
   "execution_count": 126,
   "id": "314ad682",
   "metadata": {},
   "outputs": [],
   "source": [
    "import pandas as pd\n",
    "from sklearn.ensemble import RandomForestClassifier\n",
    "from sklearn.preprocessing import LabelEncoder\n",
    "from sklearn.model_selection import GridSearchCV\n",
    "from xgboost import XGBClassifier\n",
    "from sklearn.svm import SVC"
   ]
  },
  {
   "cell_type": "code",
   "execution_count": 113,
   "id": "087e7f7d",
   "metadata": {},
   "outputs": [],
   "source": [
    "#I'd like to remove all nan data, but when i send submission, site demands 418 rows\n",
    "train = pd.DataFrame(pd.read_csv('train.csv'))\n",
    "test = pd.DataFrame(pd.read_csv('test.csv'))\n",
    "test_ids = test['PassengerId']\n",
    "train['Age'] = train['Age'].fillna(train['Age'].mean())\n",
    "train['Fare'] = train['Fare'].fillna(train['Fare'].mean())\n",
    "train['Cabin'] = train['Cabin'].fillna(train['Cabin'].mode()[0])\n",
    "train['Embarked'] = train['Embarked'].fillna(train['Embarked'].mode()[0])\n",
    "test['Age'] = test['Age'].fillna(train['Age'].mean())\n",
    "test['Fare'] = test['Fare'].fillna(train['Fare'].mean())\n",
    "test['Cabin'] = test['Cabin'].fillna(train['Cabin'].mode()[0])\n",
    "test['Embarked'] = test['Embarked'].fillna(train['Embarked'].mode()[0])\n",
    "train = train[['Pclass', 'Sex', 'Age', 'SibSp', 'Parch', 'Fare', 'Cabin', 'Embarked', 'Survived']]\n",
    "test = test[['Pclass', 'Sex', 'Age', 'SibSp', 'Parch', 'Fare', 'Cabin', 'Embarked']]\n",
    "train['Sex'] = LabelEncoder().fit_transform(train['Sex'])\n",
    "train['Cabin'] = LabelEncoder().fit_transform(train['Cabin'])\n",
    "train['Embarked'] = LabelEncoder().fit_transform(train['Embarked'])\n",
    "test['Sex'] = LabelEncoder().fit_transform(test['Sex'])\n",
    "test['Cabin'] = LabelEncoder().fit_transform(test['Cabin'])\n",
    "test['Embarked'] = LabelEncoder().fit_transform(test['Embarked'])\n",
    "x_train = train[['Pclass', 'Sex', 'Age', 'SibSp', 'Parch', 'Fare', 'Cabin', 'Embarked']]\n",
    "y_train = train['Survived']\n",
    "test = test[['Pclass', 'Sex', 'Age', 'SibSp', 'Parch', 'Fare', 'Cabin', 'Embarked']]"
   ]
  },
  {
   "cell_type": "code",
   "execution_count": 105,
   "id": "030b36f7",
   "metadata": {},
   "outputs": [
    {
     "name": "stdout",
     "output_type": "stream",
     "text": [
      "{'max_depth': 10, 'n_estimators': 200}\n",
      "0.8417864540832338\n"
     ]
    }
   ],
   "source": [
    "param_grid = {\n",
    "    'n_estimators': [100, 200, 300, 400, 500, 600, 700, 800, 900, 1000],\n",
    "    'max_depth': [5, 10, 15, 20, 25, 30, 35, 40, 45, 50]\n",
    "}\n",
    "grid_search = GridSearchCV(RandomForestClassifier(), param_grid, cv=5, n_jobs=-1)\n",
    "grid_search.fit(x_train, y_train)\n",
    "print(grid_search.best_params_)\n",
    "print(grid_search.best_score_)"
   ]
  },
  {
   "cell_type": "code",
   "execution_count": 115,
   "id": "d42a01fc",
   "metadata": {},
   "outputs": [],
   "source": [
    "clf = RandomForestClassifier(max_depth=10, n_estimators=20)\n",
    "clf.fit(x_train, y_train)\n",
    "pred = clf.predict(test)\n",
    "output = pd.DataFrame({'PassengerId': test_ids,'Survived': pred})\n",
    "output.to_csv('submission_randomforest.csv', index=False)"
   ]
  },
  {
   "cell_type": "code",
   "execution_count": 121,
   "id": "c8942b6f",
   "metadata": {},
   "outputs": [
    {
     "name": "stdout",
     "output_type": "stream",
     "text": [
      "{'learning_rate': 0.1, 'max_depth': 3, 'n_estimators': 500}\n",
      "0.8395518172117257\n"
     ]
    }
   ],
   "source": [
    "param_grid = {\n",
    "    'max_depth': [3, 5, 7, 9, 11],\n",
    "    'learning_rate': [0.05, 0.1],\n",
    "    'n_estimators': [100, 200, 300, 400, 500]\n",
    "}\n",
    "grid_search = GridSearchCV(XGBClassifier(), param_grid, cv=5, n_jobs=-1)\n",
    "grid_search.fit(x_train, y_train)\n",
    "print(grid_search.best_params_)\n",
    "print(grid_search.best_score_)"
   ]
  },
  {
   "cell_type": "code",
   "execution_count": 124,
   "id": "e47f2de0",
   "metadata": {},
   "outputs": [],
   "source": [
    "clf = XGBClassifier(learning_rate=0.1, max_depth=3, n_estimators=500)\n",
    "clf.fit(x_train, y_train)\n",
    "pred = clf.predict(test)\n",
    "output = pd.DataFrame({'PassengerId': test_ids,'Survived': pred})\n",
    "output.to_csv('submission_xgboost.csv', index=False)"
   ]
  },
  {
   "cell_type": "code",
   "execution_count": 127,
   "id": "2f81baf1",
   "metadata": {},
   "outputs": [
    {
     "name": "stdout",
     "output_type": "stream",
     "text": [
      "{'C': 100, 'gamma': 0.001, 'kernel': 'rbf'}\n",
      "0.7923608059757705\n"
     ]
    }
   ],
   "source": [
    "param_grid = {\n",
    "    'C': [0.01, 0.1, 1, 10, 100],\n",
    "    'gamma': ['scale', 'auto',0.0001, 0.001, 0.01, 0.1, 1],\n",
    "    'kernel': ['rbf', 'linear']\n",
    "}\n",
    "\n",
    "grid_search = GridSearchCV(SVC(), param_grid, cv=5, n_jobs=-1)\n",
    "grid_search.fit(x_train, y_train)\n",
    "print(grid_search.best_params_)\n",
    "print(grid_search.best_score_)"
   ]
  },
  {
   "cell_type": "code",
   "execution_count": 128,
   "id": "5ca77ebf",
   "metadata": {},
   "outputs": [],
   "source": [
    "clf = SVC(C=100, gamma=0.001, kernel='rbf')\n",
    "clf.fit(x_train, y_train)\n",
    "pred = clf.predict(test)\n",
    "output = pd.DataFrame({'PassengerId': test_ids,'Survived': pred})\n",
    "output.to_csv('submission_svc.csv', index=False)"
   ]
  },
  {
   "cell_type": "markdown",
   "id": "49a15492",
   "metadata": {},
   "source": [
    "So, I chose 3 models and trained them. You can see the result in the screenshot\n",
    "![alt text](image.png)"
   ]
  }
 ],
 "metadata": {
  "kernelspec": {
   "display_name": "Python 3",
   "language": "python",
   "name": "python3"
  },
  "language_info": {
   "codemirror_mode": {
    "name": "ipython",
    "version": 3
   },
   "file_extension": ".py",
   "mimetype": "text/x-python",
   "name": "python",
   "nbconvert_exporter": "python",
   "pygments_lexer": "ipython3",
   "version": "3.9.6"
  }
 },
 "nbformat": 4,
 "nbformat_minor": 5
}
