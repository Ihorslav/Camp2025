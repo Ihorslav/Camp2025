{
 "cells": [
  {
   "cell_type": "code",
   "execution_count": 15,
   "metadata": {},
   "outputs": [
    {
     "name": "stdout",
     "output_type": "stream",
     "text": [
      "[[72, 92], [75, 96]]\n"
     ]
    }
   ],
   "source": [
    "from collections import defaultdict\n",
    "\n",
    "# Генеруємо всі пари чисел (a, b)\n",
    "pair = []\n",
    "for i in range(2, 100):\n",
    "    for j in range(i + 1, 100):  # Уникнення пар з однаковими числами\n",
    "        pair.append([i, j])\n",
    "\n",
    "# 1. Пошук пар з однаковим добутком\n",
    "def first(array):\n",
    "    prod_dict = defaultdict(list)\n",
    "    for pair in array:\n",
    "        Prod = pair[0] * pair[1]\n",
    "        prod_dict[Prod].append(pair)\n",
    "    return {k: v for k, v in prod_dict.items() if len(v) > 1}\n",
    "\n",
    "prod_final_dict = first(pair)\n",
    "\n",
    "# 2. Вибираємо пари, де добуток може бути отриманий різними комбінаціями\n",
    "first_pairs = [pair for pairs in prod_final_dict.values() for pair in pairs]\n",
    "\n",
    "# 3. Пошук пар з однаковою сумою\n",
    "def second(array):\n",
    "    sum_dict = defaultdict(list)\n",
    "    for pair in array:\n",
    "        Sum = pair[0] + pair[1]\n",
    "        sum_dict[Sum].append(pair)\n",
    "    return {k: v for k, v in sum_dict.items() if len(v) > 1}\n",
    "\n",
    "sum_final_dict = second(first_pairs)\n",
    "\n",
    "# 4. Вибираємо пари, де сума може бути отримана різними комбінаціями\n",
    "second_final_pairs = [pair for pairs in sum_final_dict.values() for pair in pairs]\n",
    "\n",
    "# 5. Перевіряємо пари, де добуток є у prod_final_dict\n",
    "def third(array, prod_final_dict):\n",
    "    prod_dict = defaultdict(list)\n",
    "    for pair in array:\n",
    "        Prod = pair[0] * pair[1]\n",
    "        if Prod in prod_final_dict:\n",
    "            prod_dict[Prod].append(pair)\n",
    "    return {k: v for k, v in prod_dict.items() if len(v) == 1}\n",
    "\n",
    "third_final_dict = third(second_final_pairs, prod_final_dict)\n",
    "\n",
    "# 6. Вибираємо пари, де є тільки один варіант добутку\n",
    "third_final_pairs = [pair for pairs in third_final_dict.values() for pair in pairs]\n",
    "\n",
    "# 7. Перевіряємо пари, де сума є у sum_final_dict\n",
    "def fourth(array, sum_final_dict):\n",
    "    sum_dict = defaultdict(list)\n",
    "    for pair in array:\n",
    "        Sum = pair[0] + pair[1]\n",
    "        if Sum in sum_final_dict:\n",
    "            sum_dict[Sum].append(pair)\n",
    "    return {k: v for k, v in sum_dict.items() if len(v) == 1}\n",
    "\n",
    "fourth_final_dict = fourth(third_final_pairs, sum_final_dict)\n",
    "\n",
    "# 8. Вибираємо фінальні пари, де є тільки одна сума\n",
    "final_pairs = [pair for pairs in fourth_final_dict.values() for pair in pairs]\n",
    "\n",
    "print(final_pairs)\n"
   ]
  },
  {
   "cell_type": "code",
   "execution_count": null,
   "metadata": {},
   "outputs": [],
   "source": []
  }
 ],
 "metadata": {
  "kernelspec": {
   "display_name": "Python 3",
   "language": "python",
   "name": "python3"
  },
  "language_info": {
   "codemirror_mode": {
    "name": "ipython",
    "version": 3
   },
   "file_extension": ".py",
   "mimetype": "text/x-python",
   "name": "python",
   "nbconvert_exporter": "python",
   "pygments_lexer": "ipython3",
   "version": "3.9.6"
  }
 },
 "nbformat": 4,
 "nbformat_minor": 2
}
