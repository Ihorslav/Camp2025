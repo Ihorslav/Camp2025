{
 "cells": [
  {
   "cell_type": "markdown",
   "metadata": {},
   "source": [
    "Функція filter_A1 приймає список усіх пар та словник із кількістю появ кожного добутку і залишає лише ті пари, у яких добуток зустрічається більше одного разу. Таким чином, якщо добуток пари неоднозначний, вона включається до вихідного набору для подальшої обробки.\n",
    "\n",
    "Функція filter_A2 працює з підмножиною пар з попереднього фільтра і для кожної пари обчислює суму чисел. Використовуючи словник, який групує всі пари за сумою, функція перевіряє, чи для кожної пари з цієї суми добуток є неоднозначним. Якщо хоча б одна пара з такою сумою має однозначний добуток, то така сума не підходить і відповідна пара не включається в результат.\n",
    "\n",
    "Функція filter_A3 обробляє набір пар з A2, створюючи групування за добутком. Вона відбирає лише ті пари, для яких добуток зустрічається рівно один раз у цьому піднаборі, що означає, що після уточнення, отриманого на попередньому кроці, конкретний добуток є унікальним серед кандидатів.\n",
    "\n",
    "Функція filter_A4 приймає результати з A3 та групує пари за їх сумою. Вона залишає лише ті пари, де сума зустрічається рівно один раз, що гарантує, що Sum може однозначно визначити числа. Таким чином, фінальний набір містить лише ту пару, яка відповідає всім умовам задачі."
   ]
  },
  {
   "cell_type": "code",
   "execution_count": 30,
   "metadata": {},
   "outputs": [
    {
     "name": "stdout",
     "output_type": "stream",
     "text": [
      "Результуюча пара: [(4, 13)]\n"
     ]
    }
   ],
   "source": [
    "from collections import defaultdict\n",
    "\n",
    "def generate_pairs():\n",
    "    pairs = []\n",
    "    for a in range(2, 100):\n",
    "        for b in range(a + 1, 100):\n",
    "            pairs.append((a, b))\n",
    "    return pairs\n",
    "\n",
    "def get_prod_counts(pairs):\n",
    "    prod_counts = defaultdict(int)\n",
    "    for (a, b) in pairs:\n",
    "        prod_counts[a * b] += 1\n",
    "    return prod_counts\n",
    "\n",
    "def filter_A1(pairs, prod_counts):\n",
    "    A1 = []\n",
    "    for pair in pairs:\n",
    "        if prod_counts[pair[0] * pair[1]] > 1:\n",
    "            A1.append(pair)\n",
    "    return A1\n",
    "\n",
    "def get_sum_all(pairs):\n",
    "    sum_all = defaultdict(list)\n",
    "    for (a, b) in pairs:\n",
    "        sum_all[a + b].append((a, b))\n",
    "    return sum_all\n",
    "\n",
    "def filter_A2(A1, prod_counts, sum_all):\n",
    "    A2 = []\n",
    "    for (a, b) in A1:\n",
    "        S = a + b\n",
    "        flag = True\n",
    "        for (x, y) in sum_all[S]:\n",
    "            if prod_counts[x * y] <= 1:\n",
    "                flag = False\n",
    "                break\n",
    "        if flag:\n",
    "            A2.append((a, b))\n",
    "    return A2\n",
    "\n",
    "def filter_A3(A2):\n",
    "    prod_A2 = defaultdict(list)\n",
    "    for (a, b) in A2:\n",
    "        prod_A2[a * b].append((a, b))\n",
    "    A3 = []\n",
    "    for pair in A2:\n",
    "        if len(prod_A2[pair[0] * pair[1]]) == 1:\n",
    "            A3.append(pair)\n",
    "    return A3\n",
    "\n",
    "def filter_A4(A3):\n",
    "    sum_A3 = defaultdict(list)\n",
    "    for (a, b) in A3:\n",
    "        sum_A3[a + b].append((a, b))\n",
    "    A4 = []\n",
    "    for pair in A3:\n",
    "        if len(sum_A3[pair[0] + pair[1]]) == 1:\n",
    "            A4.append(pair)\n",
    "    return A4\n",
    "\n",
    "pairs = generate_pairs()\n",
    "prod_counts = get_prod_counts(pairs)\n",
    "A1 = filter_A1(pairs, prod_counts)\n",
    "sum_all = get_sum_all(pairs)\n",
    "A2 = filter_A2(A1, prod_counts, sum_all)\n",
    "A3 = filter_A3(A2)\n",
    "A4 = filter_A4(A3)\n",
    "\n",
    "print(\"Результуюча пара:\", A4)\n"
   ]
  }
 ],
 "metadata": {
  "kernelspec": {
   "display_name": "Python 3",
   "language": "python",
   "name": "python3"
  },
  "language_info": {
   "codemirror_mode": {
    "name": "ipython",
    "version": 3
   },
   "file_extension": ".py",
   "mimetype": "text/x-python",
   "name": "python",
   "nbconvert_exporter": "python",
   "pygments_lexer": "ipython3",
   "version": "3.9.6"
  }
 },
 "nbformat": 4,
 "nbformat_minor": 2
}
