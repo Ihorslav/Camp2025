{
 "cells": [
  {
   "cell_type": "markdown",
   "id": "8573f604",
   "metadata": {},
   "source": [
    "The essence of the formula is to find the number of attempts in which we can check the maximum number of floors, given that we have a limited number of glasses. I understood the options for two glasses and any number of floors thanks to triangular numbers"
   ]
  },
  {
   "cell_type": "code",
   "execution_count": 4,
   "id": "1bcc6bd1",
   "metadata": {},
   "outputs": [
    {
     "name": "stdout",
     "output_type": "stream",
     "text": [
      "14\n",
      "9\n",
      "11\n"
     ]
    }
   ],
   "source": [
    "def f(k, t):\n",
    "    if k == 0 or t == 0:\n",
    "        return 0\n",
    "    if k == 1:\n",
    "        return t\n",
    "    return f(k - 1, t - 1) + f(k, t - 1) + 1\n",
    "def min_attempts(k, floors):\n",
    "    t = 0\n",
    "    while f(k, t) < floors:\n",
    "        t += 1\n",
    "    return t\n",
    "\n",
    "print(min_attempts(2, 100))\n",
    "print(min_attempts(3, 100))\n",
    "print(min_attempts(5, 1000))\n"
   ]
  }
 ],
 "metadata": {
  "kernelspec": {
   "display_name": "Python 3",
   "language": "python",
   "name": "python3"
  },
  "language_info": {
   "codemirror_mode": {
    "name": "ipython",
    "version": 3
   },
   "file_extension": ".py",
   "mimetype": "text/x-python",
   "name": "python",
   "nbconvert_exporter": "python",
   "pygments_lexer": "ipython3",
   "version": "3.9.6"
  }
 },
 "nbformat": 4,
 "nbformat_minor": 5
}
