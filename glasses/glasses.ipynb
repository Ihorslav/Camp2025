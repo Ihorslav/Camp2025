{
 "cells": [
  {
   "cell_type": "code",
   "execution_count": null,
   "id": "1bcc6bd1",
   "metadata": {},
   "outputs": [],
   "source": [
    "import math\n",
    "def triangular_index(x):\n",
    "    n = (-1 + math.sqrt(1 + 8 * x)) / 2\n",
    "    return math.ceil(n)\n",
    "def answer(glasses, floor):\n",
    "    \n",
    "    return\n"
   ]
  },
  {
   "cell_type": "code",
   "execution_count": null,
   "id": "3a519a65",
   "metadata": {},
   "outputs": [],
   "source": []
  }
 ],
 "metadata": {
  "kernelspec": {
   "display_name": "Python 3",
   "language": "python",
   "name": "python3"
  },
  "language_info": {
   "codemirror_mode": {
    "name": "ipython",
    "version": 3
   },
   "file_extension": ".py",
   "mimetype": "text/x-python",
   "name": "python",
   "nbconvert_exporter": "python",
   "pygments_lexer": "ipython3",
   "version": "3.9.6"
  }
 },
 "nbformat": 4,
 "nbformat_minor": 5
}
