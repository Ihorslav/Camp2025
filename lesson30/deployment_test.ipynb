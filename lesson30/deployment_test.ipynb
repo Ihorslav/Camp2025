{
 "cells": [
  {
   "cell_type": "code",
   "execution_count": 21,
   "id": "3b61e6ba",
   "metadata": {},
   "outputs": [],
   "source": [
    "import requests\n",
    "import numpy as np\n",
    "import pandas as pd\n",
    "import matplotlib.pyplot as plt\n",
    "import random"
   ]
  },
  {
   "cell_type": "code",
   "execution_count": 22,
   "id": "6955b57e",
   "metadata": {},
   "outputs": [],
   "source": [
    "BASE_URL = \"http://localhost:8000\""
   ]
  },
  {
   "cell_type": "code",
   "execution_count": 23,
   "id": "116de656",
   "metadata": {},
   "outputs": [
    {
     "name": "stdout",
     "output_type": "stream",
     "text": [
      "Health: {'status': 'ok'}\n"
     ]
    }
   ],
   "source": [
    "resp = requests.get(f\"{BASE_URL}/health\")\n",
    "print(\"Health:\", resp.json())"
   ]
  },
  {
   "cell_type": "code",
   "execution_count": 24,
   "id": "9dbd605e",
   "metadata": {},
   "outputs": [
    {
     "name": "stdout",
     "output_type": "stream",
     "text": [
      "Version: {'model': 'LogisticRegression (digits 8x8)', 'meta': {'accuracy': 0.9555555555555556}}\n"
     ]
    }
   ],
   "source": [
    "resp = requests.get(f\"{BASE_URL}/version\")\n",
    "print(\"Version:\", resp.json())"
   ]
  },
  {
   "cell_type": "code",
   "execution_count": 25,
   "id": "ea3b9c1d",
   "metadata": {},
   "outputs": [
    {
     "name": "stdout",
     "output_type": "stream",
     "text": [
      "Predict Array: {'pred': 4, 'proba': [0.021194121953155957, 0.0007894590393751245, 0.028148234038787356, 0.03494370195447256, 0.7813038852268958, 0.016621623328903812, 0.01653501621755587, 0.09237194784018742, 0.004033002651499191, 0.004059007749167138]}\n"
     ]
    }
   ],
   "source": [
    "test_array = [0.0] * 64\n",
    "resp = requests.post(f\"{BASE_URL}/predict-array\", json={\"pixels\": test_array})\n",
    "print(\"Predict Array:\", resp.json())"
   ]
  },
  {
   "cell_type": "code",
   "execution_count": 26,
   "id": "edf30f1d",
   "metadata": {},
   "outputs": [
    {
     "name": "stdout",
     "output_type": "stream",
     "text": [
      "Predict Image: {'pred': 1, 'proba': [6.5827529773319945e-06, 0.8900852120100654, 0.058141070143612465, 0.005251385327226591, 0.009026131182217267, 6.243784755845163e-05, 0.0006538947288075136, 0.0021452447380983556, 0.03460467537721493, 2.3365892221581394e-05]}\n"
     ]
    }
   ],
   "source": [
    "image_path = \"sample_digit.png\"\n",
    "with open(image_path, \"rb\") as f:\n",
    "    files = {\"file\": (image_path, f, \"image/png\")}\n",
    "    resp = requests.post(f\"{BASE_URL}/predict-image\", files=files)\n",
    "print(\"Predict Image:\", resp.json())"
   ]
  },
  {
   "cell_type": "code",
   "execution_count": null,
   "id": "7ce4c5d1",
   "metadata": {},
   "outputs": [],
   "source": []
  }
 ],
 "metadata": {
  "kernelspec": {
   "display_name": "Python 3",
   "language": "python",
   "name": "python3"
  },
  "language_info": {
   "codemirror_mode": {
    "name": "ipython",
    "version": 3
   },
   "file_extension": ".py",
   "mimetype": "text/x-python",
   "name": "python",
   "nbconvert_exporter": "python",
   "pygments_lexer": "ipython3",
   "version": "3.13.0"
  }
 },
 "nbformat": 4,
 "nbformat_minor": 5
}
