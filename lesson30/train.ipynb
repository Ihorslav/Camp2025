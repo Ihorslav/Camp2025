{
 "cells": [
  {
   "cell_type": "code",
   "execution_count": 1,
   "id": "429edc57",
   "metadata": {},
   "outputs": [],
   "source": [
    "import joblib\n",
    "import numpy as np\n",
    "from sklearn.datasets import load_digits\n",
    "from sklearn.linear_model import LogisticRegression\n",
    "from sklearn.model_selection import train_test_split\n",
    "from sklearn.metrics import accuracy_score, classification_report\n",
    "import os\n"
   ]
  },
  {
   "cell_type": "code",
   "execution_count": 2,
   "id": "dfb0a6ff",
   "metadata": {},
   "outputs": [
    {
     "name": "stdout",
     "output_type": "stream",
     "text": [
      "Test accuracy: 0.9556\n",
      "              precision    recall  f1-score   support\n",
      "\n",
      "           0       1.00      0.97      0.99        36\n",
      "           1       0.88      0.83      0.86        36\n",
      "           2       1.00      1.00      1.00        35\n",
      "           3       0.97      1.00      0.99        37\n",
      "           4       0.92      1.00      0.96        36\n",
      "           5       0.97      1.00      0.99        37\n",
      "           6       0.97      0.94      0.96        36\n",
      "           7       0.97      1.00      0.99        36\n",
      "           8       0.91      0.89      0.90        35\n",
      "           9       0.94      0.92      0.93        36\n",
      "\n",
      "    accuracy                           0.96       360\n",
      "   macro avg       0.96      0.96      0.95       360\n",
      "weighted avg       0.96      0.96      0.96       360\n",
      "\n",
      "Saved to artifacts/digits_logreg.joblib\n"
     ]
    },
    {
     "name": "stderr",
     "output_type": "stream",
     "text": [
      "/Library/Frameworks/Python.framework/Versions/3.13/lib/python3.13/site-packages/sklearn/linear_model/_logistic.py:1264: FutureWarning: 'multi_class' was deprecated in version 1.5 and will be removed in 1.7. From then on, it will always use 'multinomial'. Leave it to its default value to avoid this warning.\n",
      "  warnings.warn(\n"
     ]
    }
   ],
   "source": [
    "ART_DIR = \"artifacts\"\n",
    "os.makedirs(ART_DIR, exist_ok=True)\n",
    "\n",
    "digits = load_digits()\n",
    "X = digits.images.reshape(len(digits.images), -1)\n",
    "y = digits.target\n",
    "X = X / 16.0\n",
    "\n",
    "X_train, X_test, y_train, y_test = train_test_split(X, y, test_size=0.2, random_state=42, stratify=y)\n",
    "\n",
    "clf = LogisticRegression(max_iter=2000, solver=\"lbfgs\", multi_class=\"auto\")\n",
    "clf.fit(X_train, y_train)\n",
    "\n",
    "y_pred = clf.predict(X_test)\n",
    "acc = accuracy_score(y_test, y_pred)\n",
    "print(f\"Test accuracy: {acc:.4f}\")\n",
    "print(classification_report(y_test, y_pred))\n",
    "\n",
    "joblib.dump({\"model\": clf, \"meta\": {\"accuracy\": float(acc)}}, os.path.join(ART_DIR, \"digits_logreg.joblib\"))\n",
    "print(\"Saved to artifacts/digits_logreg.joblib\")"
   ]
  },
  {
   "cell_type": "code",
   "execution_count": null,
   "id": "17be2814",
   "metadata": {},
   "outputs": [],
   "source": []
  }
 ],
 "metadata": {
  "kernelspec": {
   "display_name": "Python 3",
   "language": "python",
   "name": "python3"
  },
  "language_info": {
   "codemirror_mode": {
    "name": "ipython",
    "version": 3
   },
   "file_extension": ".py",
   "mimetype": "text/x-python",
   "name": "python",
   "nbconvert_exporter": "python",
   "pygments_lexer": "ipython3",
   "version": "3.13.0"
  }
 },
 "nbformat": 4,
 "nbformat_minor": 5
}
